{
 "cells": [
  {
   "cell_type": "code",
   "execution_count": 1,
   "id": "4356e6b3",
   "metadata": {},
   "outputs": [],
   "source": [
    "import numpy as np\n",
    "\n",
    "# Set the random seed for reproducibility\n",
    "np.random.seed(42)\n",
    "\n",
    "# Generate synthetic data\n",
    "num_samples = 1000\n",
    "max_length = 500  # Maximum length of the essays\n",
    "vocab_size = 10000  # Vocabulary size for the tokenizer\n",
    "\n",
    "essays = []\n",
    "scores = []\n",
    "\n",
    "for _ in range(num_samples):\n",
    "    essay_length = np.random.randint(100, max_length)\n",
    "    essay = ' '.join(np.random.choice(vocab_size, essay_length).astype(str))\n",
    "    score = np.random.randint(0, 10)\n",
    "    essays.append(essay)\n",
    "    scores.append(score)\n",
    "\n",
    "# Convert scores to numpy array\n",
    "scores = np.array(scores)"
   ]
  },
  {
   "cell_type": "code",
   "execution_count": 2,
   "id": "97b05403",
   "metadata": {},
   "outputs": [
    {
     "name": "stdout",
     "output_type": "stream",
     "text": [
      "Epoch 1/10\n",
      "25/25 [==============================] - 8s 274ms/step - loss: 19.7968 - val_loss: 8.1993\n",
      "Epoch 2/10\n",
      "25/25 [==============================] - 6s 241ms/step - loss: 8.0291 - val_loss: 8.0031\n",
      "Epoch 3/10\n",
      "25/25 [==============================] - 6s 237ms/step - loss: 7.7663 - val_loss: 8.0069\n",
      "Epoch 4/10\n",
      "25/25 [==============================] - 6s 248ms/step - loss: 7.3985 - val_loss: 8.0164\n",
      "Epoch 5/10\n",
      "25/25 [==============================] - 6s 240ms/step - loss: 6.4504 - val_loss: 8.0283\n",
      "Epoch 6/10\n",
      "25/25 [==============================] - 6s 241ms/step - loss: 4.4269 - val_loss: 8.1661\n",
      "Epoch 7/10\n",
      "25/25 [==============================] - 6s 239ms/step - loss: 1.6197 - val_loss: 8.7589\n",
      "Epoch 8/10\n",
      "25/25 [==============================] - 6s 231ms/step - loss: 0.6741 - val_loss: 8.7859\n",
      "Epoch 9/10\n",
      "25/25 [==============================] - 6s 242ms/step - loss: 0.3730 - val_loss: 8.7212\n",
      "Epoch 10/10\n",
      "25/25 [==============================] - 6s 245ms/step - loss: 0.1406 - val_loss: 8.7653\n",
      "7/7 [==============================] - 1s 70ms/step - loss: 8.7653\n",
      "Test Loss: 8.765266418457031\n"
     ]
    }
   ],
   "source": [
    "import numpy as np\n",
    "from tensorflow.keras.models import Sequential\n",
    "from tensorflow.keras.layers import LSTM, Dense, Embedding\n",
    "from tensorflow.keras.preprocessing.text import Tokenizer\n",
    "from tensorflow.keras.preprocessing import sequence\n",
    "\n",
    "# Tokenize the text\n",
    "tokenizer = Tokenizer(num_words=vocab_size)\n",
    "tokenizer.fit_on_texts(essays)\n",
    "word_index = tokenizer.word_index\n",
    "\n",
    "# Convert text to sequences of integers\n",
    "sequences = tokenizer.texts_to_sequences(essays)\n",
    "\n",
    "# Pad sequences to a fixed length\n",
    "max_length = 500\n",
    "data = sequence.pad_sequences(sequences, maxlen=max_length)\n",
    "# Split the data into training and testing sets\n",
    "train_ratio = 0.8\n",
    "train_samples = int(len(data) * train_ratio)\n",
    "\n",
    "x_train = data[:train_samples]\n",
    "y_train = scores[:train_samples]\n",
    "\n",
    "x_test = data[train_samples:]\n",
    "y_test = scores[train_samples:]\n",
    "\n",
    "# Build and train the LSTM model\n",
    "embedding_dim = 100\n",
    "hidden_units = 64\n",
    "\n",
    "model = Sequential()\n",
    "model.add(Embedding(vocab_size, embedding_dim, input_length=max_length))\n",
    "model.add(LSTM(hidden_units))\n",
    "model.add(Dense(1, activation='linear'))\n",
    "\n",
    "model.compile(loss='mean_squared_error', optimizer='adam')\n",
    "model.fit(x_train, y_train, batch_size=32, epochs=10, validation_data=(x_test, y_test))\n",
    "\n",
    "# Evaluate the trained model\n",
    "loss = model.evaluate(x_test, y_test)\n",
    "print('Test Loss:', loss)"
   ]
  },
  {
   "cell_type": "code",
   "execution_count": 5,
   "id": "5d371775",
   "metadata": {},
   "outputs": [],
   "source": [
    "import pickle\n",
    "\n",
    "# After model training\n",
    "model.save('essay_grading_model.h5')\n",
    "\n",
    "# Save the tokenizer\n",
    "with open('tokenizer.pickle', 'wb') as handle:\n",
    "    pickle.dump(tokenizer, handle, protocol=pickle.HIGHEST_PROTOCOL)"
   ]
  },
  {
   "cell_type": "code",
   "execution_count": null,
   "id": "fabfee62",
   "metadata": {},
   "outputs": [],
   "source": []
  }
 ],
 "metadata": {
  "kernelspec": {
   "display_name": "Python 3 (ipykernel)",
   "language": "python",
   "name": "python3"
  },
  "language_info": {
   "codemirror_mode": {
    "name": "ipython",
    "version": 3
   },
   "file_extension": ".py",
   "mimetype": "text/x-python",
   "name": "python",
   "nbconvert_exporter": "python",
   "pygments_lexer": "ipython3",
   "version": "3.10.9"
  }
 },
 "nbformat": 4,
 "nbformat_minor": 5
}
